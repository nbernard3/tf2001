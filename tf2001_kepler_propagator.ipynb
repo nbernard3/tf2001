{
 "nbformat": 4,
 "nbformat_minor": 2,
 "metadata": {
  "language_info": {
   "name": "python",
   "codemirror_mode": {
    "name": "ipython",
    "version": 3
   },
   "version": "3.7.3-final"
  },
  "orig_nbformat": 2,
  "file_extension": ".py",
  "mimetype": "text/x-python",
  "name": "python",
  "npconvert_exporter": "python",
  "pygments_lexer": "ipython3",
  "version": 3,
  "kernelspec": {
   "name": "python37364bitaicondad8df2a83bea94940b2ccf022e81f9055",
   "display_name": "Python 3.7.3 64-bit ('ai': conda)"
  }
 },
 "cells": [
  {
   "cell_type": "code",
   "execution_count": 4,
   "metadata": {},
   "outputs": [],
   "source": [
    "import tensorflow as tf\n",
    "import numpy as np"
   ]
  },
  {
   "cell_type": "code",
   "execution_count": 2,
   "metadata": {},
   "outputs": [],
   "source": [
    "WGS_84_EARTH_MU = 3.986004418e14\n",
    ""
   ]
  },
  {
   "cell_type": "code",
   "execution_count": 7,
   "metadata": {},
   "outputs": [
    {
     "output_type": "execute_result",
     "data": {
      "text/plain": "(1, 6)"
     },
     "metadata": {},
     "execution_count": 7
    }
   ],
   "source": [
    "orbit0 = np.array([7999e3, 1e-4, 0, 0.2, 0.1, 0.7], ndmin=2)\n",
    "orbit0.shape"
   ]
  },
  {
   "cell_type": "code",
   "execution_count": 18,
   "metadata": {},
   "outputs": [
    {
     "output_type": "execute_result",
     "data": {
      "text/plain": "(12, 1)"
     },
     "metadata": {},
     "execution_count": 18
    }
   ],
   "source": [
    "time = np.arange(0, 7200, 600, dtype='float').reshape(-1 , 1)\n",
    "time.shape"
   ]
  },
  {
   "cell_type": "code",
   "execution_count": 40,
   "metadata": {},
   "outputs": [
    {
     "output_type": "execute_result",
     "data": {
      "text/plain": "array([[7.99900000e+06, 1.00000000e-04, 0.00000000e+00, 2.00000000e-01,\n        1.00000000e-01, 7.00000000e-01],\n       [7.99900000e+06, 1.00000000e-04, 0.00000000e+00, 2.00000000e-01,\n        1.00000000e-01, 1.22950077e+00],\n       [7.99900000e+06, 1.00000000e-04, 0.00000000e+00, 2.00000000e-01,\n        1.00000000e-01, 1.75900153e+00],\n       [7.99900000e+06, 1.00000000e-04, 0.00000000e+00, 2.00000000e-01,\n        1.00000000e-01, 2.28850230e+00],\n       [7.99900000e+06, 1.00000000e-04, 0.00000000e+00, 2.00000000e-01,\n        1.00000000e-01, 2.81800307e+00],\n       [7.99900000e+06, 1.00000000e-04, 0.00000000e+00, 2.00000000e-01,\n        1.00000000e-01, 3.34750383e+00],\n       [7.99900000e+06, 1.00000000e-04, 0.00000000e+00, 2.00000000e-01,\n        1.00000000e-01, 3.87700460e+00],\n       [7.99900000e+06, 1.00000000e-04, 0.00000000e+00, 2.00000000e-01,\n        1.00000000e-01, 4.40650536e+00],\n       [7.99900000e+06, 1.00000000e-04, 0.00000000e+00, 2.00000000e-01,\n        1.00000000e-01, 4.93600613e+00],\n       [7.99900000e+06, 1.00000000e-04, 0.00000000e+00, 2.00000000e-01,\n        1.00000000e-01, 5.46550690e+00],\n       [7.99900000e+06, 1.00000000e-04, 0.00000000e+00, 2.00000000e-01,\n        1.00000000e-01, 5.99500766e+00],\n       [7.99900000e+06, 1.00000000e-04, 0.00000000e+00, 2.00000000e-01,\n        1.00000000e-01, 6.52450843e+00]])"
     },
     "metadata": {},
     "execution_count": 40
    }
   ],
   "source": [
    "def numpy_kepler_propagate(orbit, time):\n",
    "    semi_major_axis = orbit[0, 0]\n",
    "    mean_motion = np.sqrt(WGS_84_EARTH_MU/semi_major_axis)/semi_major_axis\n",
    "    rate = np.array([0, 0, 0, 0, 0, mean_motion], ndmin=2)\n",
    "    orbit_update = rate*time\n",
    "    return orbit + orbit_update\n",
    "\n",
    "numpy_kepler_propagate(orbit0, time)"
   ]
  },
  {
   "cell_type": "code",
   "execution_count": 49,
   "metadata": {},
   "outputs": [
    {
     "output_type": "execute_result",
     "data": {
      "text/plain": "<tf.Tensor: shape=(12, 6), dtype=float64, numpy=\narray([[7.99900000e+06, 1.00000000e-04, 0.00000000e+00, 2.00000000e-01,\n        1.00000000e-01, 7.00000000e-01],\n       [7.99900000e+06, 1.00000000e-04, 0.00000000e+00, 2.00000000e-01,\n        1.00000000e-01, 1.22950077e+00],\n       [7.99900000e+06, 1.00000000e-04, 0.00000000e+00, 2.00000000e-01,\n        1.00000000e-01, 1.75900153e+00],\n       [7.99900000e+06, 1.00000000e-04, 0.00000000e+00, 2.00000000e-01,\n        1.00000000e-01, 2.28850230e+00],\n       [7.99900000e+06, 1.00000000e-04, 0.00000000e+00, 2.00000000e-01,\n        1.00000000e-01, 2.81800307e+00],\n       [7.99900000e+06, 1.00000000e-04, 0.00000000e+00, 2.00000000e-01,\n        1.00000000e-01, 3.34750383e+00],\n       [7.99900000e+06, 1.00000000e-04, 0.00000000e+00, 2.00000000e-01,\n        1.00000000e-01, 3.87700460e+00],\n       [7.99900000e+06, 1.00000000e-04, 0.00000000e+00, 2.00000000e-01,\n        1.00000000e-01, 4.40650536e+00],\n       [7.99900000e+06, 1.00000000e-04, 0.00000000e+00, 2.00000000e-01,\n        1.00000000e-01, 4.93600613e+00],\n       [7.99900000e+06, 1.00000000e-04, 0.00000000e+00, 2.00000000e-01,\n        1.00000000e-01, 5.46550690e+00],\n       [7.99900000e+06, 1.00000000e-04, 0.00000000e+00, 2.00000000e-01,\n        1.00000000e-01, 5.99500766e+00],\n       [7.99900000e+06, 1.00000000e-04, 0.00000000e+00, 2.00000000e-01,\n        1.00000000e-01, 6.52450843e+00]])>"
     },
     "metadata": {},
     "execution_count": 49
    }
   ],
   "source": [
    "@tf.function\n",
    "def tf_kepler_propagate(orbit, time):\n",
    "    semi_major_axis, *other_kepler_elements = tf.split(orbit, [1, 5], 1)\n",
    "    mean_motion = tf.sqrt(WGS_84_EARTH_MU/semi_major_axis)/semi_major_axis\n",
    "    rate = tf.concat([tf.zeros(shape=(1, 5), dtype='float64'), mean_motion], axis=1)\n",
    "    orbit_update = rate*time\n",
    "    return orbit + orbit_update\n",
    "\n",
    "tf_kepler_propagate(orbit0, time)"
   ]
  },
  {
   "cell_type": "code",
   "execution_count": 50,
   "metadata": {},
   "outputs": [],
   "source": [
    "import tf2001"
   ]
  },
  {
   "cell_type": "code",
   "execution_count": 51,
   "metadata": {},
   "outputs": [
    {
     "output_type": "execute_result",
     "data": {
      "text/plain": "<tf.Tensor: shape=(12, 6), dtype=float64, numpy=\narray([[7.99900000e+06, 1.00000000e-04, 0.00000000e+00, 2.00000000e-01,\n        1.00000000e-01, 7.00000000e-01],\n       [7.99900000e+06, 1.00000000e-04, 0.00000000e+00, 2.00000000e-01,\n        1.00000000e-01, 1.22950077e+00],\n       [7.99900000e+06, 1.00000000e-04, 0.00000000e+00, 2.00000000e-01,\n        1.00000000e-01, 1.75900153e+00],\n       [7.99900000e+06, 1.00000000e-04, 0.00000000e+00, 2.00000000e-01,\n        1.00000000e-01, 2.28850230e+00],\n       [7.99900000e+06, 1.00000000e-04, 0.00000000e+00, 2.00000000e-01,\n        1.00000000e-01, 2.81800307e+00],\n       [7.99900000e+06, 1.00000000e-04, 0.00000000e+00, 2.00000000e-01,\n        1.00000000e-01, 3.34750383e+00],\n       [7.99900000e+06, 1.00000000e-04, 0.00000000e+00, 2.00000000e-01,\n        1.00000000e-01, 3.87700460e+00],\n       [7.99900000e+06, 1.00000000e-04, 0.00000000e+00, 2.00000000e-01,\n        1.00000000e-01, 4.40650536e+00],\n       [7.99900000e+06, 1.00000000e-04, 0.00000000e+00, 2.00000000e-01,\n        1.00000000e-01, 4.93600613e+00],\n       [7.99900000e+06, 1.00000000e-04, 0.00000000e+00, 2.00000000e-01,\n        1.00000000e-01, 5.46550690e+00],\n       [7.99900000e+06, 1.00000000e-04, 0.00000000e+00, 2.00000000e-01,\n        1.00000000e-01, 5.99500766e+00],\n       [7.99900000e+06, 1.00000000e-04, 0.00000000e+00, 2.00000000e-01,\n        1.00000000e-01, 6.52450843e+00]])>"
     },
     "metadata": {},
     "execution_count": 51
    }
   ],
   "source": [
    "tf2001.kepler_propagate(orbit0, time)"
   ]
  },
  {
   "cell_type": "code",
   "execution_count": null,
   "metadata": {},
   "outputs": [],
   "source": []
  }
 ]
}